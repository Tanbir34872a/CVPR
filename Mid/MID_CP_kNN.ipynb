{
  "nbformat": 4,
  "nbformat_minor": 0,
  "metadata": {
    "colab": {
      "provenance": [],
      "authorship_tag": "ABX9TyM/HDz5rzWrPQgtzCYvW3t6"
    },
    "kernelspec": {
      "name": "python3",
      "display_name": "Python 3"
    },
    "language_info": {
      "name": "python"
    }
  },
  "cells": [
    {
      "cell_type": "code",
      "execution_count": 1,
      "metadata": {
        "colab": {
          "base_uri": "https://localhost:8080/"
        },
        "id": "u0hA3Ozx6bU5",
        "outputId": "01c70996-f6d5-4acb-f7a1-5197a6d3eb86"
      },
      "outputs": [
        {
          "output_type": "stream",
          "name": "stdout",
          "text": [
            "fatal: destination path 'CIFAR-10-images' already exists and is not an empty directory.\n"
          ]
        }
      ],
      "source": [
        "!git clone https://github.com/YoongiKim/CIFAR-10-images"
      ]
    },
    {
      "cell_type": "code",
      "source": [
        "import cv2\n",
        "import numpy as np\n",
        "import matplotlib.pyplot as plt\n",
        "import os,glob\n",
        "from os import listdir,makedirs\n",
        "from os.path import isfile,join"
      ],
      "metadata": {
        "id": "h6XsEBE-6oEH"
      },
      "execution_count": 2,
      "outputs": []
    },
    {
      "cell_type": "code",
      "source": [
        "labels = ['airplane', 'automobile', 'bird', 'cat', 'deer', 'dog', 'frog', 'horse', 'ship', 'truck']"
      ],
      "metadata": {
        "id": "0dJLUKzU8N5z"
      },
      "execution_count": 3,
      "outputs": []
    },
    {
      "cell_type": "code",
      "source": [
        "for a in labels:\n",
        "  path = '/content/CIFAR-10-images/train/'+a # Source Folder\n",
        "  dstpath = '/content/Grayscale/train/'+a # Destination Folder\n",
        "  try:\n",
        "      makedirs(dstpath)\n",
        "  except:\n",
        "      print (\"Directory already exist, images will be written in same folder\")\n",
        "  # Folder won't used\n",
        "  files = list(filter(lambda f: isfile(join(path,f)), listdir(path)))\n",
        "  for image in files:\n",
        "      try:\n",
        "          img = cv2.imread(os.path.join(path,image))\n",
        "          gray = cv2.cvtColor(img,cv2.COLOR_BGR2GRAY)\n",
        "          dstPath = join(dstpath,image)\n",
        "          cv2.imwrite(dstPath,gray)\n",
        "      except:\n",
        "          print (\"{} is not converted\".format(image))\n",
        "  for fil in glob.glob(\"*.jpg\"):\n",
        "      try:\n",
        "          image = cv2.imread(fil)\n",
        "          gray_image = cv2.cvtColor(os.path.join(path,image), cv2.COLOR_BGR2GRAY) # convert to greyscale\n",
        "          cv2.imwrite(os.path.join(dstpath,fil),gray_image)\n",
        "      except:\n",
        "          print('{} is not converted')"
      ],
      "metadata": {
        "colab": {
          "base_uri": "https://localhost:8080/"
        },
        "id": "HMwHfQdY-TZU",
        "outputId": "ce7a3803-d8dc-4fc5-f01d-53e92438234c"
      },
      "execution_count": 4,
      "outputs": [
        {
          "output_type": "stream",
          "name": "stdout",
          "text": [
            "Directory already exist, images will be written in same folder\n",
            "Directory already exist, images will be written in same folder\n",
            "Directory already exist, images will be written in same folder\n",
            "Directory already exist, images will be written in same folder\n",
            "Directory already exist, images will be written in same folder\n",
            "Directory already exist, images will be written in same folder\n",
            "Directory already exist, images will be written in same folder\n",
            "Directory already exist, images will be written in same folder\n",
            "Directory already exist, images will be written in same folder\n",
            "Directory already exist, images will be written in same folder\n"
          ]
        }
      ]
    },
    {
      "cell_type": "markdown",
      "source": [],
      "metadata": {
        "id": "VvmZzlm5-Sr8"
      }
    }
  ]
}