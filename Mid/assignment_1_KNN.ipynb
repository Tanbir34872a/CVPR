{
  "nbformat": 4,
  "nbformat_minor": 0,
  "metadata": {
    "colab": {
      "provenance": [],
      "authorship_tag": "ABX9TyMIMMOJYxLDyxVWpJwTKIsw",
      "include_colab_link": true
    },
    "kernelspec": {
      "name": "python3",
      "display_name": "Python 3"
    },
    "language_info": {
      "name": "python"
    }
  },
  "cells": [
    {
      "cell_type": "markdown",
      "metadata": {
        "id": "view-in-github",
        "colab_type": "text"
      },
      "source": [
        "<a href=\"https://colab.research.google.com/github/Tanbir34872a/CVPR/blob/main/Mid/assignment_1_KNN.ipynb\" target=\"_parent\"><img src=\"https://colab.research.google.com/assets/colab-badge.svg\" alt=\"Open In Colab\"/></a>"
      ]
    },
    {
      "cell_type": "markdown",
      "source": [
        "# Image Classification Using Cifar-10 Dataset:\n",
        "### A Comparison of Manhattan (L1) and Euclidean (L2) Distances with 5-fold Cross-Validation\n",
        "\n",
        "---\n",
        "\n"
      ],
      "metadata": {
        "id": "ucgEW1x3Trxb"
      }
    },
    {
      "cell_type": "markdown",
      "source": [
        "## Setting Up"
      ],
      "metadata": {
        "id": "t0ZMDP0QThxR"
      }
    },
    {
      "cell_type": "code",
      "execution_count": 1,
      "metadata": {
        "colab": {
          "base_uri": "https://localhost:8080/"
        },
        "id": "1F0S169hQugw",
        "outputId": "bbfa2d75-14b9-4ce6-8016-35e3745528fb"
      },
      "outputs": [
        {
          "output_type": "stream",
          "name": "stdout",
          "text": [
            "Cloning into 'CIFAR-10-images'...\n",
            "remote: Enumerating objects: 60027, done.\u001b[K\n",
            "remote: Total 60027 (delta 0), reused 0 (delta 0), pack-reused 60027\u001b[K\n",
            "Receiving objects: 100% (60027/60027), 19.94 MiB | 44.58 MiB/s, done.\n",
            "Resolving deltas: 100% (59990/59990), done.\n",
            "Updating files: 100% (60001/60001), done.\n"
          ]
        }
      ],
      "source": [
        "!git clone https://github.com/YoongiKim/CIFAR-10-images"
      ]
    },
    {
      "cell_type": "code",
      "source": [
        "import cv2\n",
        "import numpy as np\n",
        "#np.set_printoptions(threshold=np.inf)\n",
        "import matplotlib.pyplot as plt\n",
        "import os,glob\n",
        "from os import listdir,makedirs\n",
        "from os.path import isfile,join\n",
        "from tqdm import tqdm\n",
        "import random\n",
        "from sklearn.model_selection import KFold\n",
        "import statistics as st"
      ],
      "metadata": {
        "id": "e7pDCHJkRB-h"
      },
      "execution_count": 2,
      "outputs": []
    },
    {
      "cell_type": "code",
      "source": [
        "Train_Dir = '/content/CIFAR-10-images/test'\n",
        "catagories = os.listdir(Train_Dir)"
      ],
      "metadata": {
        "id": "3oSYRENyRFaP"
      },
      "execution_count": 3,
      "outputs": []
    },
    {
      "cell_type": "markdown",
      "source": [
        "## Dataset & Preprocesing:"
      ],
      "metadata": {
        "id": "dmHGUPRjTGoJ"
      }
    },
    {
      "cell_type": "code",
      "source": [
        "#for setting up training images\n",
        "train_img = []\n",
        "for c in catagories:\n",
        "  path = os.path.join(Train_Dir, c)\n",
        "  print(c, end=\" - \")\n",
        "  for img in tqdm(os.listdir(path)):\n",
        "    img_arr = cv2.imread(os.path.join(path, img),cv2.IMREAD_GRAYSCALE)\n",
        "    img_arr_resize= cv2.resize(img_arr, (32,32))\n",
        "    train_img.append([img_arr_resize, c])"
      ],
      "metadata": {
        "colab": {
          "base_uri": "https://localhost:8080/"
        },
        "id": "6Z41s6TYRSJS",
        "outputId": "7a634a1e-d77d-4eb7-bb62-72a797cbf8f6"
      },
      "execution_count": 4,
      "outputs": [
        {
          "output_type": "stream",
          "name": "stdout",
          "text": [
            "automobile - "
          ]
        },
        {
          "output_type": "stream",
          "name": "stderr",
          "text": [
            "100%|██████████| 1000/1000 [00:00<00:00, 10466.58it/s]\n"
          ]
        },
        {
          "output_type": "stream",
          "name": "stdout",
          "text": [
            "horse - "
          ]
        },
        {
          "output_type": "stream",
          "name": "stderr",
          "text": [
            "100%|██████████| 1000/1000 [00:00<00:00, 17033.61it/s]\n"
          ]
        },
        {
          "output_type": "stream",
          "name": "stdout",
          "text": [
            "deer - "
          ]
        },
        {
          "output_type": "stream",
          "name": "stderr",
          "text": [
            "100%|██████████| 1000/1000 [00:00<00:00, 14711.18it/s]\n"
          ]
        },
        {
          "output_type": "stream",
          "name": "stdout",
          "text": [
            "cat - "
          ]
        },
        {
          "output_type": "stream",
          "name": "stderr",
          "text": [
            "100%|██████████| 1000/1000 [00:00<00:00, 13829.72it/s]\n"
          ]
        },
        {
          "output_type": "stream",
          "name": "stdout",
          "text": [
            "truck - "
          ]
        },
        {
          "output_type": "stream",
          "name": "stderr",
          "text": [
            "100%|██████████| 1000/1000 [00:00<00:00, 18502.46it/s]\n"
          ]
        },
        {
          "output_type": "stream",
          "name": "stdout",
          "text": [
            "ship - "
          ]
        },
        {
          "output_type": "stream",
          "name": "stderr",
          "text": [
            "100%|██████████| 1000/1000 [00:00<00:00, 21225.38it/s]"
          ]
        },
        {
          "output_type": "stream",
          "name": "stdout",
          "text": [
            "bird - "
          ]
        },
        {
          "output_type": "stream",
          "name": "stderr",
          "text": [
            "\n",
            "100%|██████████| 1000/1000 [00:00<00:00, 20018.25it/s]\n"
          ]
        },
        {
          "output_type": "stream",
          "name": "stdout",
          "text": [
            "dog - "
          ]
        },
        {
          "output_type": "stream",
          "name": "stderr",
          "text": [
            "100%|██████████| 1000/1000 [00:00<00:00, 18810.82it/s]\n"
          ]
        },
        {
          "output_type": "stream",
          "name": "stdout",
          "text": [
            "airplane - "
          ]
        },
        {
          "output_type": "stream",
          "name": "stderr",
          "text": [
            "100%|██████████| 1000/1000 [00:00<00:00, 16156.36it/s]\n"
          ]
        },
        {
          "output_type": "stream",
          "name": "stdout",
          "text": [
            "frog - "
          ]
        },
        {
          "output_type": "stream",
          "name": "stderr",
          "text": [
            "100%|██████████| 1000/1000 [00:00<00:00, 17979.16it/s]\n"
          ]
        }
      ]
    },
    {
      "cell_type": "markdown",
      "source": [
        "## Model Building and Evaluation:"
      ],
      "metadata": {
        "id": "Xe8PHlZ4p0YM"
      }
    },
    {
      "cell_type": "code",
      "source": [
        "random.shuffle(train_img)"
      ],
      "metadata": {
        "id": "Ikzd4G0NpzRI"
      },
      "execution_count": 5,
      "outputs": []
    },
    {
      "cell_type": "code",
      "source": [
        "KFactor = [0.25, 0.5, 1, 2, 4]\n",
        "kf = KFold(n_splits=5, random_state=None, shuffle=False)\n",
        "for i,(train_index, test_index) in enumerate(kf.split(train_img)):\n",
        "    k_values = np.multiply(np.sqrt(train_index.size),KFactor)\n",
        "    # k_values = np.arange(1,np.sqrt(train_index.size)*10,40)\n",
        "    k_values = [int(x) for x in k_values]\n",
        "    break"
      ],
      "metadata": {
        "id": "u5PtJ06eiyfC"
      },
      "execution_count": 6,
      "outputs": []
    },
    {
      "cell_type": "code",
      "source": [
        "accuracy = np.zeros((2,len(k_values),kf.n_splits), dtype=int)"
      ],
      "metadata": {
        "id": "MLhzuJO4y9hz"
      },
      "execution_count": 7,
      "outputs": []
    },
    {
      "cell_type": "code",
      "source": [
        "res = []\n",
        "for i,(train_index, test_index) in enumerate(kf.split(train_img)):\n",
        "    for x in tqdm(test_index):\n",
        "        r = []\n",
        "        testData = train_img[x][0]\n",
        "        l1 = []\n",
        "        l2 = []\n",
        "        for y in train_index:\n",
        "            trainData = train_img[y][0]\n",
        "            d = np.sum(abs(testData-trainData))\n",
        "            l1.append(d)\n",
        "            d = np.sqrt(np.sum((testData-trainData)**2))\n",
        "            l2.append(d)\n",
        "        l1_i = np.argsort(l1)\n",
        "        l2_i = np.argsort(l2)\n",
        "        for k in k_values:\n",
        "            comp = []\n",
        "            for j in l1_i[:k]:\n",
        "                comp.append(train_img[j][1])\n",
        "            if st.mode(comp) == train_img[x][1]:\n",
        "                accuracy[0][k_values.index(k)][i] += 1\n",
        "            comp = []\n",
        "            for j in l2_i[:k]:\n",
        "                comp.append(train_img[j][1])\n",
        "            if st.mode(comp) == train_img[x][1]:\n",
        "                accuracy[1][k_values.index(k)][i] += 1"
      ],
      "metadata": {
        "colab": {
          "base_uri": "https://localhost:8080/"
        },
        "id": "9dnJwWUFqIZM",
        "outputId": "ddb992cf-5c6e-4e41-9677-04244c449666"
      },
      "execution_count": 8,
      "outputs": [
        {
          "output_type": "stream",
          "name": "stderr",
          "text": [
            "100%|██████████| 2000/2000 [05:53<00:00,  5.65it/s]\n",
            "100%|██████████| 2000/2000 [05:49<00:00,  5.72it/s]\n",
            "100%|██████████| 2000/2000 [05:50<00:00,  5.71it/s]\n",
            "100%|██████████| 2000/2000 [05:53<00:00,  5.67it/s]\n",
            "100%|██████████| 2000/2000 [05:46<00:00,  5.77it/s]\n"
          ]
        }
      ]
    },
    {
      "cell_type": "markdown",
      "source": [
        "## Results and Analysis:"
      ],
      "metadata": {
        "id": "RPNoDzea08He"
      }
    },
    {
      "cell_type": "code",
      "source": [
        "L1_acc = [[],[]]\n",
        "L2_acc = [[],[]]\n",
        "print(accuracy)\n",
        "for a in accuracy[0]:\n",
        "    L1_acc[0].append(a.mean()*100/2000)\n",
        "    L1_acc[1].append(a.std()*100/2000)\n",
        "for a in accuracy[1]:\n",
        "    L2_acc[0].append(a.mean()*100/2000)\n",
        "    L2_acc[1].append(a.std()*100/2000)\n",
        "# print(L1_acc)\n",
        "# print(L2_acc)"
      ],
      "metadata": {
        "id": "tCuzcIMlqi0r",
        "colab": {
          "base_uri": "https://localhost:8080/"
        },
        "outputId": "a07fc049-c3b2-4bb3-f849-276c952a33b2"
      },
      "execution_count": 9,
      "outputs": [
        {
          "output_type": "stream",
          "name": "stdout",
          "text": [
            "[[[201 313 376 458 469]\n",
            "  [206 283 401 453 477]\n",
            "  [207 322 418 443 456]\n",
            "  [196 349 422 410 433]\n",
            "  [192 366 410 375 409]]\n",
            "\n",
            " [[210 277 297 321 319]\n",
            "  [205 297 299 334 321]\n",
            "  [222 282 308 314 310]\n",
            "  [190 274 304 336 321]\n",
            "  [204 308 305 324 335]]]\n"
          ]
        }
      ]
    },
    {
      "cell_type": "code",
      "source": [
        "plt.figure()\n",
        "plt.errorbar(k_values, L1_acc[0], L1_acc[1])\n",
        "plt.errorbar(k_values, L2_acc[0], L2_acc[1])\n",
        "plt.legend(['Manhattan (L1)','Euclidean (L2)'])\n",
        "plt.xlabel('K')\n",
        "plt.ylabel('Accuracy (in Percentage)')\n",
        "plt.title('Impact of Different Values of K')\n",
        "\n",
        "plt.show()"
      ],
      "metadata": {
        "id": "dokR7N7V_Rt6",
        "colab": {
          "base_uri": "https://localhost:8080/",
          "height": 472
        },
        "outputId": "9a862e1c-235c-4295-df8c-10879779dd0a"
      },
      "execution_count": 10,
      "outputs": [
        {
          "output_type": "display_data",
          "data": {
            "text/plain": [
              "<Figure size 640x480 with 1 Axes>"
            ],
            "image/png": "[encoded data removed]"
          },
          "metadata": {}
        }
      ]
    }
  ]
}